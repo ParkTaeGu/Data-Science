{
 "cells": [
  {
   "cell_type": "code",
   "execution_count": 39,
   "metadata": {},
   "outputs": [],
   "source": [
    "#data 불러오기\n",
    "from matplotlib import pyplot as plt\n",
    "import pandas as pd\n",
    "\n",
    "kodex200_path=r'C:\\Users\\aviat\\OneDrive\\바탕 화면\\엑셀 데이터\\주식 책 데이터\\kodex200.csv'\n",
    "treasury20_path=r'C:\\Users\\aviat\\OneDrive\\바탕 화면\\엑셀 데이터\\주식 책 데이터\\treasury20year.xlsx'\n",
    "treasury03_path=r'C:\\Users\\aviat\\OneDrive\\바탕 화면\\엑셀 데이터\\주식 책 데이터\\korea 3 year treasury.csv'\n",
    "kodex200=pd.read_csv(kodex200_path,engine='python')\n",
    "treasury20=pd.read_excel(treasury20_path)\n",
    "treasury03=pd.read_csv(treasury03_path,engine='python')\n"
   ]
  },
  {
   "cell_type": "code",
   "execution_count": 40,
   "metadata": {},
   "outputs": [],
   "source": [
    "# 데이터 날짜로 이너조인\n",
    "kodex200.index=kodex200.DATE\n",
    "treasury20.index=treasury20.DATE\n",
    "treasury03.index=treasury03.Date\n",
    "raw_data1=pd.merge(kodex200,treasury20,how='inner',left_index=True,right_index=True) # inner join with merge\n",
    "raw_data=pd.merge(raw_data1,treasury03,how='inner',left_index=True,right_index=True)\n",
    "raw_data=raw_data.rename(columns={'Close_x':'kodex200','Close_y':'treasury20','Close':'treasury03'}) # rename with dic\n",
    "raw_data=raw_data[['kodex200','treasury20','treasury03']]\n"
   ]
  },
  {
   "cell_type": "markdown",
   "metadata": {},
   "source": [
    "## 모멘텀 계산하기"
   ]
  },
  {
   "cell_type": "code",
   "execution_count": 41,
   "metadata": {},
   "outputs": [],
   "source": [
    "def momentum(x):\n",
    "    temp=(x[-1]-x[0])/x[0]\n",
    "    return temp\n",
    "kodex200_m_20=raw_data['kodex200'].rolling(window=20).apply(momentum,raw=True)\n",
    "raw_data['kodex200_momentum_20']=kodex200_m_20"
   ]
  },
  {
   "cell_type": "code",
   "execution_count": 42,
   "metadata": {
    "scrolled": true
   },
   "outputs": [],
   "source": [
    "import numpy as np\n",
    "temp=raw_data['kodex200_momentum_20'].apply(np.isnan)\n",
    "temp=~temp\n",
    "raw_data=raw_data[temp]"
   ]
  },
  {
   "cell_type": "code",
   "execution_count": 133,
   "metadata": {
    "scrolled": true
   },
   "outputs": [
    {
     "data": {
      "text/plain": [
       "[<matplotlib.lines.Line2D at 0x2760b2f2d68>]"
      ]
     },
     "execution_count": 133,
     "metadata": {},
     "output_type": "execute_result"
    },
    {
     "data": {
      "image/png": "[encoded data removed]",
      "text/plain": [
       "<Figure size 432x288 with 1 Axes>"
      ]
     },
     "metadata": {
      "needs_background": "light"
     },
     "output_type": "display_data"
    }
   ],
   "source": [
    "plt.plot(raw_data['kodex200'])"
   ]
  },
  {
   "cell_type": "code",
   "execution_count": 187,
   "metadata": {},
   "outputs": [
    {
     "data": {
      "text/plain": [
       "1687"
      ]
     },
     "execution_count": 187,
     "metadata": {},
     "output_type": "execute_result"
    }
   ],
   "source": [
    "len(raw_data)"
   ]
  },
  {
   "cell_type": "code",
   "execution_count": null,
   "metadata": {},
   "outputs": [],
   "source": []
  },
  {
   "cell_type": "code",
   "execution_count": 203,
   "metadata": {},
   "outputs": [],
   "source": [
    "\n",
    "rebal_period=60\n",
    "temp=int(len(raw_data)/rebal_period)-2\n",
    "initial_money=6000000\n",
    "initial_price=raw_data['kodex200'][0]\n",
    "initial_momentum=raw_data['kodex200_momentum_20'][0]\n",
    "\n",
    "momentum=[]\n",
    "cash_portpolio=[]\n",
    "stock_portpolio=[]\n",
    "stock_count=[]\n",
    "close_price=[] # 직전 투자주기의 종가 Table\n",
    "    \n",
    "for i in range(0,temp):\n",
    "    table=raw_data.iloc[i*rebal_period:i*rebal_period+rebal_period]\n",
    "   \n",
    "    #-------------------초기값(첫주) 설정 ------------------------------------------------------\n",
    "    if i==0 :\n",
    "        if initial_momentum>0:\n",
    "            # 초기값\n",
    "            stock_cnt=int(initial_money/initial_price)\n",
    "            stock_port=initial_price*stock_cnt\n",
    "            cash_port=initial_money-stock_port\n",
    "            \n",
    "            for j in range(0,rebal_period):\n",
    "                stock_count.append(stock_cnt)\n",
    "                cash_portpolio.append(cash_port)\n",
    "                stock_portpolio.append(table['kodex200'][j]*stock_cnt)\n",
    "                momentum.append(table['kodex200_momentum_20'][j])\n",
    "                close_price.append(table['kodex200'][j])\n",
    "#             print(stock_count)\n",
    "#             print(table)\n",
    "        else:\n",
    "            for j in range(0,rebal_period):\n",
    "                stock_portpolio.append(0)\n",
    "                cash_portpolio.append(initial_money)\n",
    "                stock_count.append(0)\n",
    "                close_price.append(table['kodex200'][j])\n",
    "#             print(stock_count)\n",
    "#             print(table)\n",
    "    #-------------------메인 설정 --------------------------------------------------------------------        \n",
    "    else:\n",
    "        if momentum[-1]<=0 and stock_portpolio[-1]!=0:# 모멘텀이 - 이고 주식이 있는경우\n",
    "            for j in range(0,rebal_period):\n",
    "                stock_count.append(0)\n",
    "                cash_portpolio.append(stock_portpolio[-1]+cash_portpolio[-1])\n",
    "                stock_portpolio.append(0)\n",
    "                momentum.append(table['kodex200_momentum_20'][j])\n",
    "                close_price.append(table['kodex200'][j])\n",
    "#             print(stock_count)\n",
    "#             print(table)\n",
    "        elif momentum[-1]<=0 and stock_portpolio[-1]==0: # 모멘텀이 - 이고 주식이 없는 경우\n",
    "            for j in range(0,rebal_period):\n",
    "                stock_count.append(0)\n",
    "                cash_portpolio.append(cash_portpolio[-1])\n",
    "                stock_portpolio.append(0)\n",
    "                momentum.append(table['kodex200_momentum_20'][j])\n",
    "                close_price.append(table['kodex200'][j])\n",
    "#             print(stock_count)\n",
    "#             print(table)\n",
    "        \n",
    "        elif momentum[-1]>0 and stock_portpolio[-1]!=0: # 모멘텀이 + 이고 주식이 있는 경우\n",
    "            for j in range(0,rebal_period):\n",
    "                stock_count.append(stock_count[-1])\n",
    "                cash_portpolio.append(cash_portpolio[-1])\n",
    "                stock_portpolio.append(table['kodex200'][j]*stock_count[-1])\n",
    "                momentum.append(table['kodex200_momentum_20'][j])   \n",
    "                close_price.append(table['kodex200'][j])\n",
    "#             print(stock_count)\n",
    "#             print(table)\n",
    "        else:                                            # 모멘텀이 + 이고 주식이 없는 경우\n",
    "            stock_cnt=int(cash_portpolio[-1]/close_price[-1])\n",
    "            cash_port=cash_portpolio[-1]-close_price[-1]*stock_cnt\n",
    "            for j in range(0,rebal_period):\n",
    "                stock_count.append(stock_cnt)\n",
    "                cash_portpolio.append(cash_port)\n",
    "                stock_portpolio.append(table['kodex200'][j]*stock_cnt)\n",
    "                momentum.append(table['kodex200_momentum_20'][j])\n",
    "                close_price.append(table['kodex200'][j])\n",
    "#             print(stock_count)\n",
    "#             print(table)\n",
    "        \n",
    "        \n",
    "        \n",
    "#     if table['kodex200_momentum_20'][0]>0:\n",
    "#         kodex_price=table['kodex200'][0]\n",
    "#         kodex_cnt=int(invest_money/kodex_price)\n",
    "#         kodex_pp=kodex_price*kodex_cnt\n",
    "#         cash_pp=[invest_money-kodex_pp]*rebal_period\n",
    "#         cash.append()\n",
    "        "
   ]
  },
  {
   "cell_type": "code",
   "execution_count": 217,
   "metadata": {
    "scrolled": true
   },
   "outputs": [
    {
     "data": {
      "text/plain": [
       "1682"
      ]
     },
     "execution_count": 217,
     "metadata": {},
     "output_type": "execute_result"
    },
    {
     "data": {
      "image/png": "[encoded data removed]",
      "text/plain": [
       "<Figure size 432x288 with 1 Axes>"
      ]
     },
     "metadata": {
      "needs_background": "light"
     },
     "output_type": "display_data"
    }
   ],
   "source": [
    "pp=pd.DataFrame({'stock':stock_portpolio,'cash':cash_portpolio})\n",
    "pp['total']=pp['stock']+pp['cash']\n",
    "plt.plot(pp.total)\n",
    "len(pp)"
   ]
  },
  {
   "cell_type": "code",
   "execution_count": 218,
   "metadata": {},
   "outputs": [
    {
     "data": {
      "text/plain": [
       "1687"
      ]
     },
     "execution_count": 218,
     "metadata": {},
     "output_type": "execute_result"
    }
   ],
   "source": [
    "len(raw_data)"
   ]
  },
  {
   "cell_type": "code",
   "execution_count": null,
   "metadata": {},
   "outputs": [],
   "source": []
  },
  {
   "cell_type": "code",
   "execution_count": 212,
   "metadata": {
    "scrolled": true
   },
   "outputs": [],
   "source": [
    "raw_data['kodex_chage']=raw_data.kodex200.pct_change()\n",
    "raw_data['hold']=raw_data.kodex200*265.7"
   ]
  },
  {
   "cell_type": "code",
   "execution_count": 227,
   "metadata": {},
   "outputs": [],
   "source": [
    "raw_data=raw_data[0:1682]"
   ]
  },
  {
   "cell_type": "code",
   "execution_count": null,
   "metadata": {},
   "outputs": [],
   "source": []
  },
  {
   "cell_type": "code",
   "execution_count": 225,
   "metadata": {},
   "outputs": [
    {
     "data": {
      "text/plain": [
       "1682"
      ]
     },
     "execution_count": 225,
     "metadata": {},
     "output_type": "execute_result"
    }
   ],
   "source": [
    "len(cash_portpolio)\n"
   ]
  },
  {
   "cell_type": "code",
   "execution_count": null,
   "metadata": {},
   "outputs": [],
   "source": []
  },
  {
   "cell_type": "code",
   "execution_count": 232,
   "metadata": {},
   "outputs": [
    {
     "name": "stderr",
     "output_type": "stream",
     "text": [
      "C:\\Users\\aviat\\Anaconda3\\lib\\site-packages\\ipykernel_launcher.py:1: SettingWithCopyWarning: \n",
      "A value is trying to be set on a copy of a slice from a DataFrame.\n",
      "Try using .loc[row_indexer,col_indexer] = value instead\n",
      "\n",
      "See the caveats in the documentation: http://pandas.pydata.org/pandas-docs/stable/indexing.html#indexing-view-versus-copy\n",
      "  \"\"\"Entry point for launching an IPython kernel.\n"
     ]
    }
   ],
   "source": [
    "raw_data['stock']=stock_portpolio"
   ]
  },
  {
   "cell_type": "code",
   "execution_count": 234,
   "metadata": {},
   "outputs": [
    {
     "name": "stderr",
     "output_type": "stream",
     "text": [
      "C:\\Users\\aviat\\Anaconda3\\lib\\site-packages\\ipykernel_launcher.py:1: SettingWithCopyWarning: \n",
      "A value is trying to be set on a copy of a slice from a DataFrame.\n",
      "Try using .loc[row_indexer,col_indexer] = value instead\n",
      "\n",
      "See the caveats in the documentation: http://pandas.pydata.org/pandas-docs/stable/indexing.html#indexing-view-versus-copy\n",
      "  \"\"\"Entry point for launching an IPython kernel.\n"
     ]
    }
   ],
   "source": [
    "raw_data['total']=raw_data.cash+raw_data.stock"
   ]
  },
  {
   "cell_type": "code",
   "execution_count": 237,
   "metadata": {},
   "outputs": [
    {
     "data": {
      "text/plain": [
       "[<matplotlib.lines.Line2D at 0x2760ee1e2b0>,\n",
       " <matplotlib.lines.Line2D at 0x2760ee2d4a8>]"
      ]
     },
     "execution_count": 237,
     "metadata": {},
     "output_type": "execute_result"
    },
    {
     "data": {
      "image/png": "[encoded data removed]",
      "text/plain": [
       "<Figure size 432x288 with 1 Axes>"
      ]
     },
     "metadata": {
      "needs_background": "light"
     },
     "output_type": "display_data"
    }
   ],
   "source": [
    "plt.plot(raw_data[['hold','total']])"
   ]
  },
  {
   "cell_type": "code",
   "execution_count": null,
   "metadata": {},
   "outputs": [],
   "source": []
  },
  {
   "cell_type": "code",
   "execution_count": null,
   "metadata": {},
   "outputs": [],
   "source": []
  },
  {
   "cell_type": "code",
   "execution_count": null,
   "metadata": {},
   "outputs": [],
   "source": []
  },
  {
   "cell_type": "code",
   "execution_count": 226,
   "metadata": {},
   "outputs": [
    {
     "data": {
      "text/plain": [
       "1687"
      ]
     },
     "execution_count": 226,
     "metadata": {},
     "output_type": "execute_result"
    }
   ],
   "source": [
    "len(raw_data)"
   ]
  },
  {
   "cell_type": "code",
   "execution_count": null,
   "metadata": {},
   "outputs": [],
   "source": []
  },
  {
   "cell_type": "code",
   "execution_count": null,
   "metadata": {},
   "outputs": [],
   "source": []
  },
  {
   "cell_type": "code",
   "execution_count": null,
   "metadata": {},
   "outputs": [],
   "source": []
  },
  {
   "cell_type": "code",
   "execution_count": null,
   "metadata": {},
   "outputs": [],
   "source": []
  },
  {
   "cell_type": "code",
   "execution_count": 211,
   "metadata": {},
   "outputs": [
    {
     "data": {
      "text/plain": [
       "265.71011026969575"
      ]
     },
     "execution_count": 211,
     "metadata": {},
     "output_type": "execute_result"
    }
   ],
   "source": [
    "6000000/22581"
   ]
  },
  {
   "cell_type": "code",
   "execution_count": null,
   "metadata": {},
   "outputs": [],
   "source": []
  },
  {
   "cell_type": "code",
   "execution_count": null,
   "metadata": {},
   "outputs": [],
   "source": []
  },
  {
   "cell_type": "code",
   "execution_count": null,
   "metadata": {},
   "outputs": [],
   "source": []
  },
  {
   "cell_type": "code",
   "execution_count": null,
   "metadata": {},
   "outputs": [],
   "source": []
  },
  {
   "cell_type": "code",
   "execution_count": null,
   "metadata": {},
   "outputs": [],
   "source": []
  },
  {
   "cell_type": "code",
   "execution_count": null,
   "metadata": {},
   "outputs": [],
   "source": []
  },
  {
   "cell_type": "code",
   "execution_count": null,
   "metadata": {},
   "outputs": [],
   "source": []
  },
  {
   "cell_type": "code",
   "execution_count": null,
   "metadata": {},
   "outputs": [],
   "source": []
  },
  {
   "cell_type": "code",
   "execution_count": null,
   "metadata": {},
   "outputs": [],
   "source": []
  },
  {
   "cell_type": "code",
   "execution_count": null,
   "metadata": {},
   "outputs": [],
   "source": []
  },
  {
   "cell_type": "code",
   "execution_count": null,
   "metadata": {},
   "outputs": [],
   "source": []
  },
  {
   "cell_type": "code",
   "execution_count": null,
   "metadata": {},
   "outputs": [],
   "source": []
  },
  {
   "cell_type": "code",
   "execution_count": null,
   "metadata": {},
   "outputs": [],
   "source": []
  },
  {
   "cell_type": "code",
   "execution_count": null,
   "metadata": {},
   "outputs": [],
   "source": []
  },
  {
   "cell_type": "code",
   "execution_count": null,
   "metadata": {},
   "outputs": [],
   "source": []
  },
  {
   "cell_type": "code",
   "execution_count": null,
   "metadata": {},
   "outputs": [],
   "source": []
  },
  {
   "cell_type": "code",
   "execution_count": null,
   "metadata": {},
   "outputs": [],
   "source": []
  },
  {
   "cell_type": "code",
   "execution_count": null,
   "metadata": {},
   "outputs": [],
   "source": []
  },
  {
   "cell_type": "code",
   "execution_count": null,
   "metadata": {},
   "outputs": [],
   "source": []
  },
  {
   "cell_type": "code",
   "execution_count": null,
   "metadata": {},
   "outputs": [],
   "source": []
  },
  {
   "cell_type": "code",
   "execution_count": null,
   "metadata": {},
   "outputs": [],
   "source": []
  },
  {
   "cell_type": "code",
   "execution_count": null,
   "metadata": {},
   "outputs": [],
   "source": []
  },
  {
   "cell_type": "code",
   "execution_count": null,
   "metadata": {},
   "outputs": [],
   "source": []
  },
  {
   "cell_type": "code",
   "execution_count": null,
   "metadata": {},
   "outputs": [],
   "source": []
  },
  {
   "cell_type": "code",
   "execution_count": null,
   "metadata": {},
   "outputs": [],
   "source": []
  },
  {
   "cell_type": "code",
   "execution_count": null,
   "metadata": {},
   "outputs": [],
   "source": []
  },
  {
   "cell_type": "code",
   "execution_count": null,
   "metadata": {},
   "outputs": [],
   "source": []
  },
  {
   "cell_type": "code",
   "execution_count": null,
   "metadata": {},
   "outputs": [],
   "source": []
  },
  {
   "cell_type": "code",
   "execution_count": null,
   "metadata": {},
   "outputs": [],
   "source": []
  },
  {
   "cell_type": "code",
   "execution_count": null,
   "metadata": {},
   "outputs": [],
   "source": []
  },
  {
   "cell_type": "code",
   "execution_count": null,
   "metadata": {},
   "outputs": [],
   "source": []
  },
  {
   "cell_type": "code",
   "execution_count": 115,
   "metadata": {},
   "outputs": [
    {
     "data": {
      "text/plain": [
       "[5983965,\n",
       " 6042795,\n",
       " 6009140,\n",
       " 6072740,\n",
       " 6081485,\n",
       " 6089965,\n",
       " 6072740,\n",
       " 6114875,\n",
       " 6129185,\n",
       " 6164430,\n",
       " 6174235,\n",
       " 6193845,\n",
       " 6238895,\n",
       " 6306205,\n",
       " 6327935,\n",
       " 6265925,\n",
       " 6295870,\n",
       " 6294545,\n",
       " 6238895,\n",
       " 6263275]"
      ]
     },
     "execution_count": 115,
     "metadata": {},
     "output_type": "execute_result"
    }
   ],
   "source": []
  },
  {
   "cell_type": "code",
   "execution_count": null,
   "metadata": {},
   "outputs": [],
   "source": []
  },
  {
   "cell_type": "code",
   "execution_count": null,
   "metadata": {},
   "outputs": [],
   "source": []
  },
  {
   "cell_type": "code",
   "execution_count": null,
   "metadata": {},
   "outputs": [],
   "source": []
  },
  {
   "cell_type": "code",
   "execution_count": null,
   "metadata": {},
   "outputs": [],
   "source": []
  },
  {
   "cell_type": "code",
   "execution_count": null,
   "metadata": {},
   "outputs": [],
   "source": []
  },
  {
   "cell_type": "code",
   "execution_count": null,
   "metadata": {},
   "outputs": [],
   "source": []
  },
  {
   "cell_type": "code",
   "execution_count": null,
   "metadata": {},
   "outputs": [],
   "source": []
  },
  {
   "cell_type": "code",
   "execution_count": null,
   "metadata": {},
   "outputs": [],
   "source": []
  },
  {
   "cell_type": "code",
   "execution_count": null,
   "metadata": {},
   "outputs": [],
   "source": []
  },
  {
   "cell_type": "code",
   "execution_count": null,
   "metadata": {},
   "outputs": [],
   "source": []
  },
  {
   "cell_type": "code",
   "execution_count": null,
   "metadata": {},
   "outputs": [],
   "source": []
  },
  {
   "cell_type": "code",
   "execution_count": null,
   "metadata": {},
   "outputs": [],
   "source": []
  },
  {
   "cell_type": "code",
   "execution_count": null,
   "metadata": {},
   "outputs": [],
   "source": []
  },
  {
   "cell_type": "code",
   "execution_count": null,
   "metadata": {},
   "outputs": [],
   "source": []
  },
  {
   "cell_type": "code",
   "execution_count": null,
   "metadata": {},
   "outputs": [],
   "source": []
  },
  {
   "cell_type": "code",
   "execution_count": null,
   "metadata": {},
   "outputs": [],
   "source": []
  },
  {
   "cell_type": "code",
   "execution_count": null,
   "metadata": {},
   "outputs": [],
   "source": []
  },
  {
   "cell_type": "code",
   "execution_count": null,
   "metadata": {},
   "outputs": [],
   "source": []
  },
  {
   "cell_type": "code",
   "execution_count": 65,
   "metadata": {},
   "outputs": [
    {
     "name": "stdout",
     "output_type": "stream",
     "text": [
      "Object `append` not found.\n"
     ]
    }
   ],
   "source": [
    "\n"
   ]
  },
  {
   "cell_type": "code",
   "execution_count": null,
   "metadata": {},
   "outputs": [],
   "source": []
  },
  {
   "cell_type": "code",
   "execution_count": null,
   "metadata": {},
   "outputs": [],
   "source": []
  },
  {
   "cell_type": "code",
   "execution_count": 58,
   "metadata": {},
   "outputs": [
    {
     "data": {
      "text/plain": [
       "0"
      ]
     },
     "execution_count": 58,
     "metadata": {},
     "output_type": "execute_result"
    }
   ],
   "source": [
    "int(2/3)"
   ]
  },
  {
   "cell_type": "code",
   "execution_count": 80,
   "metadata": {},
   "outputs": [
    {
     "data": {
      "text/plain": [
       "range(0, 1)"
      ]
     },
     "execution_count": 80,
     "metadata": {},
     "output_type": "execute_result"
    }
   ],
   "source": [
    "range(0,1)"
   ]
  },
  {
   "cell_type": "code",
   "execution_count": null,
   "metadata": {},
   "outputs": [],
   "source": []
  },
  {
   "cell_type": "code",
   "execution_count": null,
   "metadata": {},
   "outputs": [],
   "source": []
  },
  {
   "cell_type": "code",
   "execution_count": null,
   "metadata": {},
   "outputs": [],
   "source": []
  },
  {
   "cell_type": "code",
   "execution_count": null,
   "metadata": {},
   "outputs": [],
   "source": []
  },
  {
   "cell_type": "code",
   "execution_count": null,
   "metadata": {},
   "outputs": [],
   "source": []
  },
  {
   "cell_type": "code",
   "execution_count": null,
   "metadata": {},
   "outputs": [],
   "source": []
  },
  {
   "cell_type": "code",
   "execution_count": null,
   "metadata": {},
   "outputs": [],
   "source": []
  },
  {
   "cell_type": "code",
   "execution_count": null,
   "metadata": {},
   "outputs": [],
   "source": []
  },
  {
   "cell_type": "code",
   "execution_count": null,
   "metadata": {},
   "outputs": [],
   "source": []
  },
  {
   "cell_type": "code",
   "execution_count": 34,
   "metadata": {},
   "outputs": [
    {
     "name": "stderr",
     "output_type": "stream",
     "text": [
      "C:\\Users\\aviat\\Anaconda3\\lib\\site-packages\\ipykernel_launcher.py:6: SettingWithCopyWarning: \n",
      "A value is trying to be set on a copy of a slice from a DataFrame.\n",
      "Try using .loc[row_indexer,col_indexer] = value instead\n",
      "\n",
      "See the caveats in the documentation: http://pandas.pydata.org/pandas-docs/stable/indexing.html#indexing-view-versus-copy\n",
      "  \n",
      "C:\\Users\\aviat\\Anaconda3\\lib\\site-packages\\ipykernel_launcher.py:7: SettingWithCopyWarning: \n",
      "A value is trying to be set on a copy of a slice from a DataFrame.\n",
      "Try using .loc[row_indexer,col_indexer] = value instead\n",
      "\n",
      "See the caveats in the documentation: http://pandas.pydata.org/pandas-docs/stable/indexing.html#indexing-view-versus-copy\n",
      "  import sys\n",
      "C:\\Users\\aviat\\Anaconda3\\lib\\site-packages\\ipykernel_launcher.py:8: SettingWithCopyWarning: \n",
      "A value is trying to be set on a copy of a slice from a DataFrame.\n",
      "Try using .loc[row_indexer,col_indexer] = value instead\n",
      "\n",
      "See the caveats in the documentation: http://pandas.pydata.org/pandas-docs/stable/indexing.html#indexing-view-versus-copy\n",
      "  \n"
     ]
    }
   ],
   "source": [
    "# initial_money=6000000\n",
    "# kodex_price = raw_data['kodex200']\n",
    "# stock_count=int(initial_money/kodex_price[0:1])\n",
    "# cash_amount=initial_money-kodex_price[0:1]*stock_count\n",
    "# cash_amount=cash_amount[0]\n",
    "# raw_data['주식포트폴리오']=kodex_price*stock_count\n",
    "# raw_data['현금포트폴리오']=[cash_amount]*len(raw_data)\n",
    "# raw_data['종합포트폴리오']=raw_data['주식포트폴리오']+raw_data['현금포트폴리오']\n"
   ]
  },
  {
   "cell_type": "code",
   "execution_count": null,
   "metadata": {},
   "outputs": [],
   "source": []
  },
  {
   "cell_type": "code",
   "execution_count": null,
   "metadata": {},
   "outputs": [],
   "source": []
  },
  {
   "cell_type": "code",
   "execution_count": null,
   "metadata": {},
   "outputs": [],
   "source": []
  },
  {
   "cell_type": "code",
   "execution_count": null,
   "metadata": {},
   "outputs": [],
   "source": []
  },
  {
   "cell_type": "code",
   "execution_count": null,
   "metadata": {},
   "outputs": [],
   "source": []
  },
  {
   "cell_type": "code",
   "execution_count": null,
   "metadata": {},
   "outputs": [],
   "source": []
  },
  {
   "cell_type": "code",
   "execution_count": 27,
   "metadata": {
    "scrolled": true
   },
   "outputs": [],
   "source": [
    "cash_amount?"
   ]
  },
  {
   "cell_type": "code",
   "execution_count": null,
   "metadata": {},
   "outputs": [],
   "source": []
  },
  {
   "cell_type": "code",
   "execution_count": null,
   "metadata": {},
   "outputs": [],
   "source": []
  },
  {
   "cell_type": "code",
   "execution_count": null,
   "metadata": {},
   "outputs": [],
   "source": []
  },
  {
   "cell_type": "code",
   "execution_count": 20,
   "metadata": {},
   "outputs": [
    {
     "data": {
      "text/html": [
       "<div>\n",
       "<style scoped>\n",
       "    .dataframe tbody tr th:only-of-type {\n",
       "        vertical-align: middle;\n",
       "    }\n",
       "\n",
       "    .dataframe tbody tr th {\n",
       "        vertical-align: top;\n",
       "    }\n",
       "\n",
       "    .dataframe thead th {\n",
       "        text-align: right;\n",
       "    }\n",
       "</style>\n",
       "<table border=\"1\" class=\"dataframe\">\n",
       "  <thead>\n",
       "    <tr style=\"text-align: right;\">\n",
       "      <th></th>\n",
       "      <th>kodex200</th>\n",
       "      <th>treasury20</th>\n",
       "      <th>treasury03</th>\n",
       "      <th>kodex200_momentum_20</th>\n",
       "      <th>주식포트폴리오</th>\n",
       "    </tr>\n",
       "  </thead>\n",
       "  <tbody>\n",
       "    <tr>\n",
       "      <th>2012-11-26</th>\n",
       "      <td>22581</td>\n",
       "      <td>91780</td>\n",
       "      <td>92654</td>\n",
       "      <td>0.010471</td>\n",
       "      <td>5983965</td>\n",
       "    </tr>\n",
       "    <tr>\n",
       "      <th>2012-11-27</th>\n",
       "      <td>22803</td>\n",
       "      <td>91356</td>\n",
       "      <td>92609</td>\n",
       "      <td>0.011578</td>\n",
       "      <td>6042795</td>\n",
       "    </tr>\n",
       "    <tr>\n",
       "      <th>2012-11-28</th>\n",
       "      <td>22676</td>\n",
       "      <td>91725</td>\n",
       "      <td>92650</td>\n",
       "      <td>0.016542</td>\n",
       "      <td>6009140</td>\n",
       "    </tr>\n",
       "    <tr>\n",
       "      <th>2012-11-29</th>\n",
       "      <td>22916</td>\n",
       "      <td>91706</td>\n",
       "      <td>92683</td>\n",
       "      <td>0.015240</td>\n",
       "      <td>6072740</td>\n",
       "    </tr>\n",
       "    <tr>\n",
       "      <th>2012-11-30</th>\n",
       "      <td>22949</td>\n",
       "      <td>91716</td>\n",
       "      <td>92683</td>\n",
       "      <td>0.021954</td>\n",
       "      <td>6081485</td>\n",
       "    </tr>\n",
       "    <tr>\n",
       "      <th>2012-12-03</th>\n",
       "      <td>22981</td>\n",
       "      <td>91565</td>\n",
       "      <td>92727</td>\n",
       "      <td>0.012334</td>\n",
       "      <td>6089965</td>\n",
       "    </tr>\n",
       "    <tr>\n",
       "      <th>2012-12-04</th>\n",
       "      <td>22916</td>\n",
       "      <td>91642</td>\n",
       "      <td>92679</td>\n",
       "      <td>0.004075</td>\n",
       "      <td>6072740</td>\n",
       "    </tr>\n",
       "    <tr>\n",
       "      <th>2012-12-05</th>\n",
       "      <td>23075</td>\n",
       "      <td>90960</td>\n",
       "      <td>92737</td>\n",
       "      <td>0.027153</td>\n",
       "      <td>6114875</td>\n",
       "    </tr>\n",
       "    <tr>\n",
       "      <th>2012-12-06</th>\n",
       "      <td>23129</td>\n",
       "      <td>90952</td>\n",
       "      <td>92686</td>\n",
       "      <td>0.035642</td>\n",
       "      <td>6129185</td>\n",
       "    </tr>\n",
       "    <tr>\n",
       "      <th>2012-12-07</th>\n",
       "      <td>23262</td>\n",
       "      <td>91274</td>\n",
       "      <td>92766</td>\n",
       "      <td>0.042251</td>\n",
       "      <td>6164430</td>\n",
       "    </tr>\n",
       "    <tr>\n",
       "      <th>2012-12-10</th>\n",
       "      <td>23299</td>\n",
       "      <td>90919</td>\n",
       "      <td>92714</td>\n",
       "      <td>0.049788</td>\n",
       "      <td>6174235</td>\n",
       "    </tr>\n",
       "    <tr>\n",
       "      <th>2012-12-11</th>\n",
       "      <td>23373</td>\n",
       "      <td>90855</td>\n",
       "      <td>92669</td>\n",
       "      <td>0.048681</td>\n",
       "      <td>6193845</td>\n",
       "    </tr>\n",
       "    <tr>\n",
       "      <th>2012-12-12</th>\n",
       "      <td>23543</td>\n",
       "      <td>90777</td>\n",
       "      <td>92660</td>\n",
       "      <td>0.069650</td>\n",
       "      <td>6238895</td>\n",
       "    </tr>\n",
       "    <tr>\n",
       "      <th>2012-12-13</th>\n",
       "      <td>23797</td>\n",
       "      <td>90317</td>\n",
       "      <td>92710</td>\n",
       "      <td>0.087068</td>\n",
       "      <td>6306205</td>\n",
       "    </tr>\n",
       "    <tr>\n",
       "      <th>2012-12-14</th>\n",
       "      <td>23879</td>\n",
       "      <td>90270</td>\n",
       "      <td>92714</td>\n",
       "      <td>0.079423</td>\n",
       "      <td>6327935</td>\n",
       "    </tr>\n",
       "    <tr>\n",
       "      <th>2012-12-17</th>\n",
       "      <td>23645</td>\n",
       "      <td>90173</td>\n",
       "      <td>92640</td>\n",
       "      <td>0.060219</td>\n",
       "      <td>6265925</td>\n",
       "    </tr>\n",
       "    <tr>\n",
       "      <th>2012-12-18</th>\n",
       "      <td>23758</td>\n",
       "      <td>89713</td>\n",
       "      <td>92625</td>\n",
       "      <td>0.068544</td>\n",
       "      <td>6295870</td>\n",
       "    </tr>\n",
       "    <tr>\n",
       "      <th>2012-12-20</th>\n",
       "      <td>23753</td>\n",
       "      <td>89617</td>\n",
       "      <td>92600</td>\n",
       "      <td>0.057757</td>\n",
       "      <td>6294545</td>\n",
       "    </tr>\n",
       "    <tr>\n",
       "      <th>2012-12-21</th>\n",
       "      <td>23543</td>\n",
       "      <td>89880</td>\n",
       "      <td>92700</td>\n",
       "      <td>0.040897</td>\n",
       "      <td>6238895</td>\n",
       "    </tr>\n",
       "    <tr>\n",
       "      <th>2012-12-24</th>\n",
       "      <td>23635</td>\n",
       "      <td>89700</td>\n",
       "      <td>92746</td>\n",
       "      <td>0.046676</td>\n",
       "      <td>6263275</td>\n",
       "    </tr>\n",
       "    <tr>\n",
       "      <th>2012-12-26</th>\n",
       "      <td>23658</td>\n",
       "      <td>89041</td>\n",
       "      <td>92678</td>\n",
       "      <td>0.037495</td>\n",
       "      <td>6269370</td>\n",
       "    </tr>\n",
       "    <tr>\n",
       "      <th>2012-12-27</th>\n",
       "      <td>23782</td>\n",
       "      <td>89368</td>\n",
       "      <td>92761</td>\n",
       "      <td>0.048774</td>\n",
       "      <td>6302230</td>\n",
       "    </tr>\n",
       "    <tr>\n",
       "      <th>2012-12-28</th>\n",
       "      <td>23897</td>\n",
       "      <td>90224</td>\n",
       "      <td>92814</td>\n",
       "      <td>0.042809</td>\n",
       "      <td>6332705</td>\n",
       "    </tr>\n",
       "    <tr>\n",
       "      <th>2013-01-02</th>\n",
       "      <td>24364</td>\n",
       "      <td>89612</td>\n",
       "      <td>92821</td>\n",
       "      <td>0.061658</td>\n",
       "      <td>6456460</td>\n",
       "    </tr>\n",
       "    <tr>\n",
       "      <th>2013-01-03</th>\n",
       "      <td>24278</td>\n",
       "      <td>90975</td>\n",
       "      <td>93028</td>\n",
       "      <td>0.056438</td>\n",
       "      <td>6433670</td>\n",
       "    </tr>\n",
       "    <tr>\n",
       "      <th>2013-01-04</th>\n",
       "      <td>24131</td>\n",
       "      <td>90846</td>\n",
       "      <td>93124</td>\n",
       "      <td>0.053020</td>\n",
       "      <td>6394715</td>\n",
       "    </tr>\n",
       "    <tr>\n",
       "      <th>2013-01-07</th>\n",
       "      <td>24145</td>\n",
       "      <td>90878</td>\n",
       "      <td>93079</td>\n",
       "      <td>0.046371</td>\n",
       "      <td>6398425</td>\n",
       "    </tr>\n",
       "    <tr>\n",
       "      <th>2013-01-08</th>\n",
       "      <td>23889</td>\n",
       "      <td>91766</td>\n",
       "      <td>93132</td>\n",
       "      <td>0.032859</td>\n",
       "      <td>6330585</td>\n",
       "    </tr>\n",
       "    <tr>\n",
       "      <th>2013-01-09</th>\n",
       "      <td>23797</td>\n",
       "      <td>91807</td>\n",
       "      <td>93132</td>\n",
       "      <td>0.022999</td>\n",
       "      <td>6306205</td>\n",
       "    </tr>\n",
       "    <tr>\n",
       "      <th>2013-01-10</th>\n",
       "      <td>24008</td>\n",
       "      <td>92186</td>\n",
       "      <td>93209</td>\n",
       "      <td>0.030430</td>\n",
       "      <td>6362120</td>\n",
       "    </tr>\n",
       "    <tr>\n",
       "      <th>...</th>\n",
       "      <td>...</td>\n",
       "      <td>...</td>\n",
       "      <td>...</td>\n",
       "      <td>...</td>\n",
       "      <td>...</td>\n",
       "    </tr>\n",
       "    <tr>\n",
       "      <th>2019-08-27</th>\n",
       "      <td>25350</td>\n",
       "      <td>148510</td>\n",
       "      <td>111309</td>\n",
       "      <td>-0.059020</td>\n",
       "      <td>6717750</td>\n",
       "    </tr>\n",
       "    <tr>\n",
       "      <th>2019-08-28</th>\n",
       "      <td>25595</td>\n",
       "      <td>148190</td>\n",
       "      <td>111254</td>\n",
       "      <td>-0.040307</td>\n",
       "      <td>6782675</td>\n",
       "    </tr>\n",
       "    <tr>\n",
       "      <th>2019-08-29</th>\n",
       "      <td>25455</td>\n",
       "      <td>148210</td>\n",
       "      <td>111284</td>\n",
       "      <td>-0.044482</td>\n",
       "      <td>6745575</td>\n",
       "    </tr>\n",
       "    <tr>\n",
       "      <th>2019-08-30</th>\n",
       "      <td>25875</td>\n",
       "      <td>147610</td>\n",
       "      <td>111259</td>\n",
       "      <td>-0.017654</td>\n",
       "      <td>6856875</td>\n",
       "    </tr>\n",
       "    <tr>\n",
       "      <th>2019-09-02</th>\n",
       "      <td>25920</td>\n",
       "      <td>145750</td>\n",
       "      <td>111070</td>\n",
       "      <td>0.005821</td>\n",
       "      <td>6868800</td>\n",
       "    </tr>\n",
       "    <tr>\n",
       "      <th>2019-09-03</th>\n",
       "      <td>25820</td>\n",
       "      <td>146230</td>\n",
       "      <td>111100</td>\n",
       "      <td>0.016135</td>\n",
       "      <td>6842300</td>\n",
       "    </tr>\n",
       "    <tr>\n",
       "      <th>2019-09-04</th>\n",
       "      <td>26205</td>\n",
       "      <td>145755</td>\n",
       "      <td>111040</td>\n",
       "      <td>0.037616</td>\n",
       "      <td>6944325</td>\n",
       "    </tr>\n",
       "    <tr>\n",
       "      <th>2019-09-05</th>\n",
       "      <td>26435</td>\n",
       "      <td>145095</td>\n",
       "      <td>110995</td>\n",
       "      <td>0.042184</td>\n",
       "      <td>7005275</td>\n",
       "    </tr>\n",
       "    <tr>\n",
       "      <th>2019-09-06</th>\n",
       "      <td>26555</td>\n",
       "      <td>144985</td>\n",
       "      <td>111005</td>\n",
       "      <td>0.039742</td>\n",
       "      <td>7037075</td>\n",
       "    </tr>\n",
       "    <tr>\n",
       "      <th>2019-09-09</th>\n",
       "      <td>26770</td>\n",
       "      <td>145600</td>\n",
       "      <td>111075</td>\n",
       "      <td>0.046521</td>\n",
       "      <td>7094050</td>\n",
       "    </tr>\n",
       "    <tr>\n",
       "      <th>2019-09-10</th>\n",
       "      <td>26885</td>\n",
       "      <td>145230</td>\n",
       "      <td>111030</td>\n",
       "      <td>0.061809</td>\n",
       "      <td>7124525</td>\n",
       "    </tr>\n",
       "    <tr>\n",
       "      <th>2019-09-11</th>\n",
       "      <td>27085</td>\n",
       "      <td>144780</td>\n",
       "      <td>111015</td>\n",
       "      <td>0.062157</td>\n",
       "      <td>7177525</td>\n",
       "    </tr>\n",
       "    <tr>\n",
       "      <th>2019-09-16</th>\n",
       "      <td>27170</td>\n",
       "      <td>141510</td>\n",
       "      <td>110715</td>\n",
       "      <td>0.069054</td>\n",
       "      <td>7200050</td>\n",
       "    </tr>\n",
       "    <tr>\n",
       "      <th>2019-09-17</th>\n",
       "      <td>27160</td>\n",
       "      <td>142175</td>\n",
       "      <td>110790</td>\n",
       "      <td>0.061975</td>\n",
       "      <td>7197400</td>\n",
       "    </tr>\n",
       "    <tr>\n",
       "      <th>2019-09-18</th>\n",
       "      <td>27310</td>\n",
       "      <td>143110</td>\n",
       "      <td>110825</td>\n",
       "      <td>0.057502</td>\n",
       "      <td>7237150</td>\n",
       "    </tr>\n",
       "    <tr>\n",
       "      <th>2019-09-19</th>\n",
       "      <td>27490</td>\n",
       "      <td>143395</td>\n",
       "      <td>110835</td>\n",
       "      <td>0.062415</td>\n",
       "      <td>7284850</td>\n",
       "    </tr>\n",
       "    <tr>\n",
       "      <th>2019-09-20</th>\n",
       "      <td>27640</td>\n",
       "      <td>143325</td>\n",
       "      <td>110790</td>\n",
       "      <td>0.076743</td>\n",
       "      <td>7324600</td>\n",
       "    </tr>\n",
       "    <tr>\n",
       "      <th>2019-09-23</th>\n",
       "      <td>27675</td>\n",
       "      <td>143300</td>\n",
       "      <td>110795</td>\n",
       "      <td>0.079158</td>\n",
       "      <td>7333875</td>\n",
       "    </tr>\n",
       "    <tr>\n",
       "      <th>2019-09-24</th>\n",
       "      <td>27840</td>\n",
       "      <td>143000</td>\n",
       "      <td>110810</td>\n",
       "      <td>0.101702</td>\n",
       "      <td>7377600</td>\n",
       "    </tr>\n",
       "    <tr>\n",
       "      <th>2019-09-25</th>\n",
       "      <td>27440</td>\n",
       "      <td>144115</td>\n",
       "      <td>110895</td>\n",
       "      <td>0.082446</td>\n",
       "      <td>7271600</td>\n",
       "    </tr>\n",
       "    <tr>\n",
       "      <th>2019-09-26</th>\n",
       "      <td>27490</td>\n",
       "      <td>143900</td>\n",
       "      <td>110905</td>\n",
       "      <td>0.074038</td>\n",
       "      <td>7284850</td>\n",
       "    </tr>\n",
       "    <tr>\n",
       "      <th>2019-09-27</th>\n",
       "      <td>27200</td>\n",
       "      <td>143705</td>\n",
       "      <td>110935</td>\n",
       "      <td>0.068552</td>\n",
       "      <td>7208000</td>\n",
       "    </tr>\n",
       "    <tr>\n",
       "      <th>2019-09-30</th>\n",
       "      <td>27430</td>\n",
       "      <td>143385</td>\n",
       "      <td>110960</td>\n",
       "      <td>0.060097</td>\n",
       "      <td>7268950</td>\n",
       "    </tr>\n",
       "    <tr>\n",
       "      <th>2019-10-01</th>\n",
       "      <td>27495</td>\n",
       "      <td>142245</td>\n",
       "      <td>110875</td>\n",
       "      <td>0.060764</td>\n",
       "      <td>7286175</td>\n",
       "    </tr>\n",
       "    <tr>\n",
       "      <th>2019-10-02</th>\n",
       "      <td>26910</td>\n",
       "      <td>142430</td>\n",
       "      <td>110945</td>\n",
       "      <td>0.042215</td>\n",
       "      <td>7131150</td>\n",
       "    </tr>\n",
       "    <tr>\n",
       "      <th>2019-10-04</th>\n",
       "      <td>26800</td>\n",
       "      <td>145475</td>\n",
       "      <td>111250</td>\n",
       "      <td>0.022706</td>\n",
       "      <td>7102000</td>\n",
       "    </tr>\n",
       "    <tr>\n",
       "      <th>2019-10-07</th>\n",
       "      <td>26845</td>\n",
       "      <td>145290</td>\n",
       "      <td>111240</td>\n",
       "      <td>0.015510</td>\n",
       "      <td>7113925</td>\n",
       "    </tr>\n",
       "    <tr>\n",
       "      <th>2019-10-08</th>\n",
       "      <td>27240</td>\n",
       "      <td>143885</td>\n",
       "      <td>111110</td>\n",
       "      <td>0.025796</td>\n",
       "      <td>7218600</td>\n",
       "    </tr>\n",
       "    <tr>\n",
       "      <th>2019-10-10</th>\n",
       "      <td>27045</td>\n",
       "      <td>143345</td>\n",
       "      <td>111075</td>\n",
       "      <td>0.010273</td>\n",
       "      <td>7166925</td>\n",
       "    </tr>\n",
       "    <tr>\n",
       "      <th>2019-10-11</th>\n",
       "      <td>27235</td>\n",
       "      <td>142525</td>\n",
       "      <td>111050</td>\n",
       "      <td>0.013018</td>\n",
       "      <td>7217275</td>\n",
       "    </tr>\n",
       "  </tbody>\n",
       "</table>\n",
       "<p>1687 rows × 5 columns</p>\n",
       "</div>"
      ],
      "text/plain": [
       "            kodex200  treasury20  treasury03  kodex200_momentum_20  주식포트폴리오\n",
       "2012-11-26     22581       91780       92654              0.010471  5983965\n",
       "2012-11-27     22803       91356       92609              0.011578  6042795\n",
       "2012-11-28     22676       91725       92650              0.016542  6009140\n",
       "2012-11-29     22916       91706       92683              0.015240  6072740\n",
       "2012-11-30     22949       91716       92683              0.021954  6081485\n",
       "2012-12-03     22981       91565       92727              0.012334  6089965\n",
       "2012-12-04     22916       91642       92679              0.004075  6072740\n",
       "2012-12-05     23075       90960       92737              0.027153  6114875\n",
       "2012-12-06     23129       90952       92686              0.035642  6129185\n",
       "2012-12-07     23262       91274       92766              0.042251  6164430\n",
       "2012-12-10     23299       90919       92714              0.049788  6174235\n",
       "2012-12-11     23373       90855       92669              0.048681  6193845\n",
       "2012-12-12     23543       90777       92660              0.069650  6238895\n",
       "2012-12-13     23797       90317       92710              0.087068  6306205\n",
       "2012-12-14     23879       90270       92714              0.079423  6327935\n",
       "2012-12-17     23645       90173       92640              0.060219  6265925\n",
       "2012-12-18     23758       89713       92625              0.068544  6295870\n",
       "2012-12-20     23753       89617       92600              0.057757  6294545\n",
       "2012-12-21     23543       89880       92700              0.040897  6238895\n",
       "2012-12-24     23635       89700       92746              0.046676  6263275\n",
       "2012-12-26     23658       89041       92678              0.037495  6269370\n",
       "2012-12-27     23782       89368       92761              0.048774  6302230\n",
       "2012-12-28     23897       90224       92814              0.042809  6332705\n",
       "2013-01-02     24364       89612       92821              0.061658  6456460\n",
       "2013-01-03     24278       90975       93028              0.056438  6433670\n",
       "2013-01-04     24131       90846       93124              0.053020  6394715\n",
       "2013-01-07     24145       90878       93079              0.046371  6398425\n",
       "2013-01-08     23889       91766       93132              0.032859  6330585\n",
       "2013-01-09     23797       91807       93132              0.022999  6306205\n",
       "2013-01-10     24008       92186       93209              0.030430  6362120\n",
       "...              ...         ...         ...                   ...      ...\n",
       "2019-08-27     25350      148510      111309             -0.059020  6717750\n",
       "2019-08-28     25595      148190      111254             -0.040307  6782675\n",
       "2019-08-29     25455      148210      111284             -0.044482  6745575\n",
       "2019-08-30     25875      147610      111259             -0.017654  6856875\n",
       "2019-09-02     25920      145750      111070              0.005821  6868800\n",
       "2019-09-03     25820      146230      111100              0.016135  6842300\n",
       "2019-09-04     26205      145755      111040              0.037616  6944325\n",
       "2019-09-05     26435      145095      110995              0.042184  7005275\n",
       "2019-09-06     26555      144985      111005              0.039742  7037075\n",
       "2019-09-09     26770      145600      111075              0.046521  7094050\n",
       "2019-09-10     26885      145230      111030              0.061809  7124525\n",
       "2019-09-11     27085      144780      111015              0.062157  7177525\n",
       "2019-09-16     27170      141510      110715              0.069054  7200050\n",
       "2019-09-17     27160      142175      110790              0.061975  7197400\n",
       "2019-09-18     27310      143110      110825              0.057502  7237150\n",
       "2019-09-19     27490      143395      110835              0.062415  7284850\n",
       "2019-09-20     27640      143325      110790              0.076743  7324600\n",
       "2019-09-23     27675      143300      110795              0.079158  7333875\n",
       "2019-09-24     27840      143000      110810              0.101702  7377600\n",
       "2019-09-25     27440      144115      110895              0.082446  7271600\n",
       "2019-09-26     27490      143900      110905              0.074038  7284850\n",
       "2019-09-27     27200      143705      110935              0.068552  7208000\n",
       "2019-09-30     27430      143385      110960              0.060097  7268950\n",
       "2019-10-01     27495      142245      110875              0.060764  7286175\n",
       "2019-10-02     26910      142430      110945              0.042215  7131150\n",
       "2019-10-04     26800      145475      111250              0.022706  7102000\n",
       "2019-10-07     26845      145290      111240              0.015510  7113925\n",
       "2019-10-08     27240      143885      111110              0.025796  7218600\n",
       "2019-10-10     27045      143345      111075              0.010273  7166925\n",
       "2019-10-11     27235      142525      111050              0.013018  7217275\n",
       "\n",
       "[1687 rows x 5 columns]"
      ]
     },
     "execution_count": 20,
     "metadata": {},
     "output_type": "execute_result"
    }
   ],
   "source": [
    "raw_data"
   ]
  },
  {
   "cell_type": "code",
   "execution_count": null,
   "metadata": {},
   "outputs": [],
   "source": []
  },
  {
   "cell_type": "code",
   "execution_count": null,
   "metadata": {},
   "outputs": [],
   "source": []
  },
  {
   "cell_type": "code",
   "execution_count": null,
   "metadata": {},
   "outputs": [],
   "source": []
  },
  {
   "cell_type": "code",
   "execution_count": null,
   "metadata": {},
   "outputs": [],
   "source": []
  },
  {
   "cell_type": "code",
   "execution_count": null,
   "metadata": {},
   "outputs": [],
   "source": []
  },
  {
   "cell_type": "code",
   "execution_count": null,
   "metadata": {},
   "outputs": [],
   "source": []
  },
  {
   "cell_type": "code",
   "execution_count": 9,
   "metadata": {},
   "outputs": [],
   "source": [
    "strategy_price = raw_data['kodex200']"
   ]
  },
  {
   "cell_type": "code",
   "execution_count": 3,
   "metadata": {},
   "outputs": [],
   "source": [
    "#  [코드 5.12] 백테스트 함수 버젼1 (Ch5. 백테스트.ipynb)\n",
    "\n",
    "\n",
    "def backtest_beta(price_df, strategy_df, start_date, end_date, initial_money):\n",
    "\n",
    "    code_list = []\n",
    "    for code in strategy_df.index:\n",
    "        code_list.append(code.replace('A',''))\n",
    "\n",
    "    strategy_price = price_df[code_list][start_date:end_date]\n",
    "\n",
    "    pf_stock_num = {}\n",
    "    stock_amount = 0\n",
    "    stock_pf = 0\n",
    "    each_money = initial_money / len(strategy_df)\n",
    "    for code in strategy_price.columns:\n",
    "        temp = int( each_money / strategy_price[code][0] )\n",
    "        pf_stock_num[code] = temp\n",
    "        stock_amount = stock_amount + temp * strategy_price[code][0]\n",
    "        stock_pf = stock_pf + strategy_price[code] * pf_stock_num[code]\n",
    "\n",
    "    cash_amount = initial_money - stock_amount\n",
    "\n",
    "    backtest_df = pd.DataFrame({'주식포트폴리오':stock_pf})\n",
    "    backtest_df['현금포트폴리오'] = [cash_amount] * len(backtest_df)\n",
    "    backtest_df['종합포트폴리오'] = backtest_df['주식포트폴리오'] + backtest_df['현금포트폴리오']\n",
    "    backtest_df['일변화율'] = backtest_df['종합포트폴리오'].pct_change()\n",
    "    backtest_df['총변화율'] = backtest_df['종합포트폴리오']/initial_money - 1\n",
    "    \n",
    "    \n",
    "    return backtest_df"
   ]
  },
  {
   "cell_type": "code",
   "execution_count": 10,
   "metadata": {},
   "outputs": [],
   "source": [
    "# 시작일 종가가 없는 종목 빼기 함수\n",
    "def select_code_by_price(price_df, data_df, start_date):\n",
    "    new_code_list = []\n",
    "    for code in price_df[start_date].iloc[0].dropna().index:\n",
    "        new_code_list.append('A' + code)\n",
    "        \n",
    "    selected_df =  data_df.loc[new_code_list]\n",
    "    return selected_df"
   ]
  },
  {
   "cell_type": "code",
   "execution_count": 17,
   "metadata": {},
   "outputs": [
    {
     "name": "stderr",
     "output_type": "stream",
     "text": [
      "C:\\Users\\aviat\\Anaconda3\\lib\\site-packages\\ipykernel_launcher.py:7: FutureWarning: \n",
      "Passing list-likes to .loc or [] with any missing label will raise\n",
      "KeyError in the future, you can use .reindex() as an alternative.\n",
      "\n",
      "See the documentation here:\n",
      "https://pandas.pydata.org/pandas-docs/stable/indexing.html#deprecate-loc-reindex-listlike\n",
      "  import sys\n"
     ]
    },
    {
     "data": {
      "text/plain": [
       "<matplotlib.legend.Legend at 0x24de933eef0>"
      ]
     },
     "execution_count": 17,
     "metadata": {},
     "output_type": "execute_result"
    },
    {
     "data": {
      "image/png": "[encoded data removed]",
      "text/plain": [
       "<Figure size 720x432 with 1 Axes>"
      ]
     },
     "metadata": {
      "needs_background": "light"
     },
     "output_type": "display_data"
    }
   ],
   "source": [
    "import matplotlib.pyplot as plt\n",
    "\n",
    "strategy_date = '2016/12'\n",
    "start_date = '2017-7'\n",
    "end_date = '2018-6'\n",
    "initial_money = 100000000\n",
    "\n",
    "# 전략별 종목 리스트 가져오기\n",
    "low_pbr = python_quant.get_value_rank(select_code_by_price(price_df,invest_df,start_date), 'PBR', strategy_date, 20)\n",
    "low_per = python_quant.get_value_rank(select_code_by_price(price_df,invest_df,start_date), 'PER', strategy_date, 20)\n",
    "combo_st=python_quant.make_value_combo(['PER','PBR','PCR','PSR'],select_code_by_price(price_df,invest_df,start_date),strategy_date,20)\n",
    "\n",
    "# 전략별 백테스팅\n",
    "pbr_backtest = backtest_beta(price_df, low_pbr, start_date, end_date, initial_money)\n",
    "per_backtest = backtest_beta(price_df, low_per, start_date, end_date, initial_money)\n",
    "combo_backtest= backtest_beta(price_df, combo_st, start_date, end_date, initial_money)\n",
    "\n",
    "#그림그리기\n",
    "plt.figure(figsize=(10,6))\n",
    "pbr_backtest['총변화율'].plot(label='PBR')\n",
    "per_backtest['총변화율'].plot(label='PER')\n",
    "combo_backtest['총변화율'].plot(label='COMBO')\n",
    "plt.legend()"
   ]
  },
  {
   "cell_type": "code",
   "execution_count": null,
   "metadata": {},
   "outputs": [],
   "source": []
  },
  {
   "cell_type": "code",
   "execution_count": null,
   "metadata": {},
   "outputs": [],
   "source": []
  },
  {
   "cell_type": "code",
   "execution_count": null,
   "metadata": {},
   "outputs": [],
   "source": []
  },
  {
   "cell_type": "code",
   "execution_count": null,
   "metadata": {},
   "outputs": [],
   "source": []
  },
  {
   "cell_type": "code",
   "execution_count": null,
   "metadata": {},
   "outputs": [],
   "source": []
  },
  {
   "cell_type": "code",
   "execution_count": null,
   "metadata": {},
   "outputs": [],
   "source": []
  },
  {
   "cell_type": "code",
   "execution_count": null,
   "metadata": {},
   "outputs": [],
   "source": []
  },
  {
   "cell_type": "code",
   "execution_count": null,
   "metadata": {},
   "outputs": [],
   "source": []
  },
  {
   "cell_type": "code",
   "execution_count": null,
   "metadata": {},
   "outputs": [],
   "source": []
  },
  {
   "cell_type": "code",
   "execution_count": null,
   "metadata": {},
   "outputs": [],
   "source": []
  },
  {
   "cell_type": "code",
   "execution_count": null,
   "metadata": {},
   "outputs": [],
   "source": []
  },
  {
   "cell_type": "code",
   "execution_count": null,
   "metadata": {},
   "outputs": [],
   "source": []
  },
  {
   "cell_type": "code",
   "execution_count": null,
   "metadata": {},
   "outputs": [],
   "source": []
  },
  {
   "cell_type": "code",
   "execution_count": null,
   "metadata": {},
   "outputs": [],
   "source": []
  }
 ],
 "metadata": {
  "kernelspec": {
   "display_name": "Python 3",
   "language": "python",
   "name": "python3"
  },
  "language_info": {
   "codemirror_mode": {
    "name": "ipython",
    "version": 3
   },
   "file_extension": ".py",
   "mimetype": "text/x-python",
   "name": "python",
   "nbconvert_exporter": "python",
   "pygments_lexer": "ipython3",
   "version": "3.6.7"
  }
 },
 "nbformat": 4,
 "nbformat_minor": 2
}
